{
 "cells": [
  {
   "cell_type": "markdown",
   "id": "ab2a2b76-644c-496f-bfe0-d86a588a356a",
   "metadata": {},
   "source": [
    "# Pandas Series\n",
    "\n",
    "A Series is a one-dimensional labeled array capable of holding any data type. The axis labels are collectively called the index."
   ]
  },
  {
   "cell_type": "markdown",
   "id": "9cc971fd-9705-486f-8d0a-45764db6ea4c",
   "metadata": {},
   "source": [
    "## Creating Series\n",
    "There are multiple ways to create a pandas Series:"
   ]
  },
  {
   "cell_type": "code",
   "execution_count": null,
   "id": "b66ce510-8d58-463b-9b2b-0aa934adfe56",
   "metadata": {},
   "outputs": [],
   "source": [
    "import numpy as np\n",
    "import pandas as pd"
   ]
  },
  {
   "cell_type": "code",
   "execution_count": 3,
   "id": "41b502df-b9e3-433f-9d02-90d5fda6bb0a",
   "metadata": {},
   "outputs": [],
   "source": [
    "labels = ['a','b','c']\n",
    "my_list = [10,20,30]\n",
    "arr = np.array([10,20,30])\n",
    "d = {'a':10,'b':20,'c':30}"
   ]
  },
  {
   "cell_type": "code",
   "execution_count": 4,
   "id": "15577e68-8c1a-4017-92c5-a7431ba8cfe1",
   "metadata": {},
   "outputs": [
    {
     "data": {
      "text/plain": [
       "0    10\n",
       "1    20\n",
       "2    30\n",
       "dtype: int64"
      ]
     },
     "execution_count": 4,
     "metadata": {},
     "output_type": "execute_result"
    }
   ],
   "source": [
    "pd.Series(my_list)"
   ]
  },
  {
   "cell_type": "code",
   "execution_count": 5,
   "id": "47799e62-c013-4f0e-8ec8-6d5d85db3e00",
   "metadata": {},
   "outputs": [
    {
     "data": {
      "text/plain": [
       "a    10\n",
       "b    20\n",
       "c    30\n",
       "dtype: int64"
      ]
     },
     "execution_count": 5,
     "metadata": {},
     "output_type": "execute_result"
    }
   ],
   "source": [
    "pd.Series(my_list,index=labels)"
   ]
  },
  {
   "cell_type": "code",
   "execution_count": 6,
   "id": "202cb49a-a2fd-4056-bad2-fabbf4423ceb",
   "metadata": {},
   "outputs": [
    {
     "data": {
      "text/plain": [
       "a    10\n",
       "b    20\n",
       "c    30\n",
       "dtype: int64"
      ]
     },
     "execution_count": 6,
     "metadata": {},
     "output_type": "execute_result"
    }
   ],
   "source": [
    "pd.Series(d)"
   ]
  },
  {
   "cell_type": "code",
   "execution_count": 7,
   "id": "fc3e81c1-df27-4910-ab79-619e7e309a28",
   "metadata": {},
   "outputs": [
    {
     "data": {
      "text/plain": [
       "a    10\n",
       "b    20\n",
       "c    30\n",
       "dtype: int64"
      ]
     },
     "execution_count": 7,
     "metadata": {},
     "output_type": "execute_result"
    }
   ],
   "source": [
    "pd.Series(arr,index=labels)"
   ]
  },
  {
   "cell_type": "code",
   "execution_count": null,
   "id": "7ca656ca-df4b-40b8-9bf0-aa78bbee8b7c",
   "metadata": {},
   "outputs": [],
   "source": [
    "pd.Series()"
   ]
  }
 ],
 "metadata": {
  "kernelspec": {
   "display_name": "Python 3 (ipykernel)",
   "language": "python",
   "name": "python3"
  },
  "language_info": {
   "codemirror_mode": {
    "name": "ipython",
    "version": 3
   },
   "file_extension": ".py",
   "mimetype": "text/x-python",
   "name": "python",
   "nbconvert_exporter": "python",
   "pygments_lexer": "ipython3",
   "version": "3.9.8"
  }
 },
 "nbformat": 4,
 "nbformat_minor": 5
}
